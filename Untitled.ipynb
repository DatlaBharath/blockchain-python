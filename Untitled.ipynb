{
 "cells": [
  {
   "cell_type": "code",
   "execution_count": 1,
   "id": "d738ccf5",
   "metadata": {},
   "outputs": [],
   "source": [
    "import hashlib\n",
    "import datetime\n",
    "import pandas as pd"
   ]
  },
  {
   "cell_type": "code",
   "execution_count": 2,
   "id": "b2dadd77",
   "metadata": {},
   "outputs": [],
   "source": [
    "class Block:\n",
    "    def __init__(self, transaction_no, product_no, product_name, price, quantity, customer_no, country, previous_hash='', nonce=0):\n",
    "        self.transaction_no = transaction_no\n",
    "        self.date = datetime.datetime.now()\n",
    "        self.product_no = product_no\n",
    "        self.product_name = product_name\n",
    "        self.price = price\n",
    "        self.quantity = quantity\n",
    "        self.customer_no = customer_no\n",
    "        self.country = country\n",
    "        self.previous_hash = previous_hash\n",
    "        self.nonce = nonce\n",
    "        self.hash = self.calculate_hash()\n",
    "\n",
    "    def calculate_hash(self):\n",
    "        data = (\n",
    "            str(self.transaction_no) +\n",
    "            str(self.date) +\n",
    "            str(self.product_no) +\n",
    "            str(self.product_name) +\n",
    "            str(self.price) +\n",
    "            str(self.quantity) +\n",
    "            str(self.customer_no) +\n",
    "            str(self.country) +\n",
    "            str(self.previous_hash) +\n",
    "            str(self.nonce)\n",
    "        )\n",
    "        return hashlib.sha256(data.encode('utf-8')).hexdigest()\n",
    "\n",
    "    def mine_block(self, difficulty):\n",
    "        while self.hash[:difficulty] != '0' * difficulty:\n",
    "            self.nonce += 1\n",
    "            self.hash = self.calculate_hash()"
   ]
  },
  {
   "cell_type": "code",
   "execution_count": 3,
   "id": "f18844f3",
   "metadata": {},
   "outputs": [],
   "source": [
    "class Blockchain:\n",
    "    def __init__(self):\n",
    "        self.chain = [self.create_genesis_block()]\n",
    "        self.difficulty = 4\n",
    "\n",
    "    def create_genesis_block(self):\n",
    "        return Block(transaction_no=0, product_no=0, product_name='Genesis Block', price=0, quantity=0, customer_no=0, country='', previous_hash='0')\n",
    "\n",
    "    def add_block(self, block):\n",
    "        block.previous_hash = self.chain[-1].hash\n",
    "        block.mine_block(self.difficulty)\n",
    "        self.chain.append(block)"
   ]
  },
  {
   "cell_type": "code",
   "execution_count": 4,
   "id": "03246574",
   "metadata": {},
   "outputs": [
    {
     "name": "stdout",
     "output_type": "stream",
     "text": [
      "Transaction No: 0,Product No: 0,Product Name: Genesis Block, Hash: 68f51b379becf909731d1321da9e2409322c50e5607fc4af27b35ecd3db438fd\n",
      "Transaction No: 581482,Product No: 22485,Product Name: Set Of 2 Wooden Market Crates, Hash: 000003e7b3da8efd8967e32e09ffb4f00b59f3ec1f0ce8b2ca8ab7b429703bab\n",
      "Transaction No: 581475,Product No: 22596,Product Name: Christmas Star Wish List Chalkboard, Hash: 00004bacf81f7d155951c7d8d13e1d659507daebf5b137442fbb85b4d5f2f192\n",
      "Transaction No: 581475,Product No: 23235,Product Name: Storage Tin Vintage Leaf, Hash: 000080c112f7753d21d3301cae8cf888f43a5842e5292467c8b20285f9949e51\n",
      "Transaction No: 581475,Product No: 23272,Product Name: Tree T-Light Holder Willie Winkie, Hash: 0000fb027a81ace311581a9b369390476d67b308c7244825cef9b0851fdbd557\n",
      "Transaction No: 581475,Product No: 23239,Product Name: Set Of 4 Knick Knack Tins Poppies, Hash: 00001d8ec184608171f7d1baf8bfa0aab74f830bfc8fc07d4c1cf23064433843\n",
      "Transaction No: 581475,Product No: 21705,Product Name: Bag 500g Swirly Marbles, Hash: 000052595571b12dcead2ecb3ac003f65dda7020a444cbeedef3d121ee9eab75\n",
      "Transaction No: 581475,Product No: 22118,Product Name: Joy Wooden Block Letters, Hash: 0000268f767f8fd0f6bdba3d2722a3cb50c53507fa6ea1cc2c8b13f627ab3bb6\n",
      "Transaction No: 581475,Product No: 22119,Product Name: Peace Wooden Block Letters, Hash: 00009d68e87bd455615fed73e53279f8151f946bbf50d3839b0859e66c0f317c\n",
      "Transaction No: 581475,Product No: 22217,Product Name: T-Light Holder Hanging Lace, Hash: 00008f63bfe977845ec8fd148f7107383da9f760929bc36bc646a10fbfb993d8\n",
      "Transaction No: 581475,Product No: 22216,Product Name: T-Light Holder White Lace, Hash: 0000f3a003fae83d6b4b70d37435b2ad7cd6e5539510ca73f9825993c34d99d7\n",
      "Transaction No: 581475,Product No: 22380,Product Name: Toy Tidy Spaceboy, Hash: 00002214bc47edcca012c93570452c9696df21461624fcde650ebd20c6898549\n",
      "Transaction No: 581475,Product No: 22442,Product Name: Grow Your Own Flowers Set Of 3, Hash: 00000308d2dcab470421af51934d22862ef6af6406122852ed6969e0f142a6aa\n",
      "Transaction No: 581475,Product No: 22664,Product Name: Toy Tidy Dolly Girl Design, Hash: 0000544609a997b4f7b81ea03b43d182f236e8fbc3ad1f06c3e1ef35294fa90f\n",
      "Transaction No: 581475,Product No: 22721,Product Name: Set Of 3 Cake Tins Sketchbook, Hash: 000019435da7d83c2300e59e77c4a13578d2709de495351296c69e6c05604e73\n"
     ]
    }
   ],
   "source": [
    "blockchain = Blockchain()\n",
    "df = pd.read_csv('Transaction_details - Blockchain Task - transaction_details.csv')\n",
    "for index, row in df.iterrows():\n",
    "    transaction_no = int(row['TransactionNo'])\n",
    "    product_no = int(row['ProductNo'])\n",
    "    product_name = row['ProductName']\n",
    "    price = float(row['Price'])\n",
    "    quantity = int(row['Quantity'])\n",
    "    customer_no = int(row['CustomerNo'])\n",
    "    country = row['Country']\n",
    "\n",
    "    new_block = Block(\n",
    "        transaction_no=transaction_no,\n",
    "        product_no=product_no,\n",
    "        product_name=product_name,\n",
    "        price=price,\n",
    "        quantity=quantity,\n",
    "        customer_no=customer_no,\n",
    "        country=country\n",
    "    )\n",
    "\n",
    "    blockchain.add_block(new_block)\n",
    "\n",
    "for block in blockchain.chain:\n",
    "    print(f\"Transaction No: {block.transaction_no},Product No: {block.product_no},Product Name: {block.product_name}, Hash: {block.hash}\")\n"
   ]
  },
  {
   "cell_type": "code",
   "execution_count": null,
   "id": "b1b9c60a",
   "metadata": {},
   "outputs": [],
   "source": []
  }
 ],
 "metadata": {
  "kernelspec": {
   "display_name": "Python 3 (ipykernel)",
   "language": "python",
   "name": "python3"
  },
  "language_info": {
   "codemirror_mode": {
    "name": "ipython",
    "version": 3
   },
   "file_extension": ".py",
   "mimetype": "text/x-python",
   "name": "python",
   "nbconvert_exporter": "python",
   "pygments_lexer": "ipython3",
   "version": "3.10.9"
  }
 },
 "nbformat": 4,
 "nbformat_minor": 5
}
